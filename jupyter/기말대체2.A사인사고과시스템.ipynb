{
 "cells": [
  {
   "cell_type": "markdown",
   "metadata": {},
   "source": [
    "# A사 인사고과 시스템 구축: 기말대체과제"
   ]
  },
  {
   "cell_type": "code",
   "execution_count": null,
   "metadata": {},
   "outputs": [],
   "source": [
    "import pandas as pd\n",
    "\n",
    "# 인사고과 데이터 프레임 작성하기\n",
    "df_PE = pd.DataFrame(\n",
    "    columns = [\"사번\", \"이름\", \"부서\", \"직무\", \"근무태도\", \"업무효율\", \"업무성과\", \n",
    "               \"업무지식\", \"대인관계\", \"상사평가종합\",\" 동료_업무역량\", \"동료_업무성과\", \n",
    "               \"동료_대인관계\", \"동료_평가종합\", \"평가종합\", \"평가등급\"]\n",
    ")\n",
    "\n",
    "\n",
    "# 동료평가 데이터 프레임 작성하기\n",
    "\n",
    "df_GR = pd.DataFrame(\n",
    "    columns = [\"피평가자사번\", \"평가자사번\", \"업무역량\", \"업무성과\", \"대인관계\"] \n",
    ")\n",
    "\n",
    "# 데이터 프레임 엑셀 저장하기\n",
    "df_PE.to_excel(\"df_PE.xlsx\", index=False)"
   ]
  },
  {
   "cell_type": "markdown",
   "metadata": {},
   "source": [
    "## 빈 데이터 프레임에 기본 데이터 넣기"
   ]
  },
  {
   "cell_type": "code",
   "execution_count": null,
   "metadata": {},
   "outputs": [],
   "source": [
    "base_data= [[\"10001\", \"이현지\", \"영업팀\", \"영업\"],\n",
    "            [\"10002\", \"김성수\", \"영업팀\", \"영업\"],\n",
    "            [\"10003\", \"박한성\", \"영업팀\", \"사무\"],\n",
    "            [\"10004\", \"김지우\", \"영업팀\", \"영업\"],\n",
    "            [\"10005\", \"서광덕\", \"개발1팀\", \"기술\"],\n",
    "            [\"10006\", \"임지훈\", \"개발1팀\", \"기술\"],\n",
    "            [\"10007\", \"강형민\", \"개발1팀\", \"기술\"],\n",
    "            [\"10008\", \"조성우\", \"개발1팀\", \"사무\"],\n",
    "            [\"10009\", \"이인혁\", \"개발2팀\", \"기술\"],\n",
    "            [\"10010\", \"장은지\", \"개발2팀\", \"기술\"],\n",
    "            [\"10011\", \"황선희\", \"개발2팀\", \"기술\"],\n",
    "            [\"10012\", \"이석희\", \"개발2팀\", \"기술\"]]\n",
    "\n",
    "# for 구문을 사용하여 기본 데이터를 df_PE 데이터프레임에 일괄 입력하기\n",
    "for idx, base in enumerate(base_data):\n",
    "    for col_idx, col_name in enumerate([\"사번\", \"이름\", \"부서\", \"직무\"]):\n",
    "        df_PE.loc[idx, col_name] = base[col_idx]      "
   ]
  },
  {
   "cell_type": "markdown",
   "metadata": {},
   "source": [
    "# 부서장 평가 코드 작성"
   ]
  },
  {
   "cell_type": "markdown",
   "metadata": {},
   "source": [
    "### 부서장은 자신의 부서의 직원에 대해 근무태도, 업무효율, 업무성과, 업무지식, 대인관계의 5가지 항목에 대해 각각 평가함\n",
    "- 평가는 A+ ~ F까지 등급으로 평가되며 A+100, A 90, B+ 85, B 80, C+75 C 70, D+65, D 60, F 50 점으로 자동으로 환산되어 입력되며 평가점수 입력시 기준 값은 피평가자 사번을 사용해야 함\n",
    "- 직무에 따른 가중치는 따로 입력되지 않으며 평가 종료시 일괄 적용되므로 부서장 평가 기능 구현시 고려할 필요 없음\n",
    "- 평가기능은 dept_eval(사번, 근무태도, 업무효율, 업무성과, 업무지식, 대인관계) 기능으로 구현됨\n",
    "- 평가 등급의 점수 변환은 딕셔너리를 사용할 것"
   ]
  },
  {
   "cell_type": "code",
   "execution_count": null,
   "metadata": {},
   "outputs": [],
   "source": [
    "def dept_eval(emp_no, att, eff, perf, know, rel, df):\n",
    "    grade_dict = {\"A+\":100, \"A\":90, \"B+\":85, \"B\":80, \"C+\":75, \"C\":70, \"D+\":65, \"D\":60, \"F\":50}\n",
    "    \n",
    "    df.loc[df.사번 == emp_no, [\"근무태도\", \"업무효율\", \"업무성과\", \"업무지식\", \"대인관계\"]] = \\\n",
    "        [grade_dict[att],grade_dict[eff], grade_dict[perf], grade_dict[know], grade_dict[rel]]\n",
    "    return df"
   ]
  },
  {
   "cell_type": "markdown",
   "metadata": {},
   "source": [
    "### 사번 \"10001\" 인 이현지 사원의 평가를 입력합니다."
   ]
  },
  {
   "cell_type": "code",
   "execution_count": null,
   "metadata": {
    "scrolled": true
   },
   "outputs": [],
   "source": [
    "df_PE = dept_eval(\"10001\", \"A+\", \"B+\", \"A\", \"A\", \"D\", df_PE)"
   ]
  },
  {
   "cell_type": "code",
   "execution_count": null,
   "metadata": {},
   "outputs": [],
   "source": [
    "df_PE.loc[df_PE.사번 == \"10001\", [\"사번\", \"이름\", \"부서\", \"근무태도\", \"업무효율\", \"업무성과\", \"업무지식\", \"대인관계\"]]"
   ]
  },
  {
   "cell_type": "markdown",
   "metadata": {},
   "source": [
    "# 부서장 평가 코드 보완 \n",
    "   \n",
    "\n",
    "1) 평가할 부서를 입력받고 해당 부서 직원의 사번, 이름, 부서명, 직무를 출력함  \n",
    "2) 평가 대상 사원의 사번을 입력 받고 입력한 입력된 사번이 존재하는지 확인함. 없을시 적절한 메시지를 보여주고 다시 입력 받음  \n",
    "3) 사번이 적합하게 입력되면 근무태도, 업무효율, 업무성과, 업무지식, 대인관계의 순서로 A+ ~ F까지의 점수 입력함  \n",
    "4) 해당 피평가자의 평가 입력이 종료되면 해당 평가자의 사번, 이름과 함께 위의 다섯분야 점수를 A+ ~ F 형태로 출력하여 확인 가능하도록 함"
   ]
  },
  {
   "cell_type": "code",
   "execution_count": null,
   "metadata": {},
   "outputs": [],
   "source": [
    "# 평가할 부서 입력받기\n",
    "def get_dept(df):\n",
    "    dept_lst = list(set(df_PE[\"부서\"]))\n",
    "    while True:\n",
    "        dept_sel = input(f\"평가할 부서명 {dept_lst} 중에서 입력하세요: \")\n",
    "        if dept_sel in dept_lst:\n",
    "            break\n",
    "        print(f\"{dept_sel}은 적합한 부서명이 아닙니다.\")\n",
    "    \n",
    "    return dept_sel"
   ]
  },
  {
   "cell_type": "code",
   "execution_count": null,
   "metadata": {},
   "outputs": [],
   "source": [
    "# 선택한 부서의 사원 정보 보여주기\n",
    "def show_dept_emp(dept_name, df):\n",
    "    df = df.loc[df.부서 == dept_name, [\"부서\", \"사번\", \"이름\", \"직무\"]]\n",
    "    print(df)\n"
   ]
  },
  {
   "cell_type": "code",
   "execution_count": null,
   "metadata": {},
   "outputs": [],
   "source": [
    "# 선택부서의 사번 입력받기\n",
    "def get_emp_no(dept_name, df):\n",
    "    emp_no_lst = list(df.loc[df.부서 == dept_name, \"사번\"])\n",
    "    \n",
    "    while True:\n",
    "        show_dept_emp(dept_name, df)\n",
    "        emp_no_sel = input(f\"평가할 {dept_name} 사원번호를 입력하세요:\")\n",
    "        if emp_no_sel in emp_no_lst:\n",
    "            break\n",
    "        print(f\"{emp_no_sel}은 적합한 사번이 아닙니다.\")\n",
    "    \n",
    "    return emp_no_sel"
   ]
  },
  {
   "cell_type": "markdown",
   "metadata": {},
   "source": [
    "## 선택한 부서원 고과 입력 (10점)"
   ]
  },
  {
   "cell_type": "code",
   "execution_count": null,
   "metadata": {},
   "outputs": [],
   "source": [
    "def dept_eval(emp_no, att, eff, perf, know, rel, df):\n",
    "\n",
    "    return df"
   ]
  },
  {
   "cell_type": "markdown",
   "metadata": {},
   "source": [
    "## 입력 종료 후 해당 부서원의 정보 출력(고과점수 A+ ~ F로 출력)(10점)"
   ]
  },
  {
   "cell_type": "code",
   "execution_count": null,
   "metadata": {},
   "outputs": [],
   "source": [
    "def show_eval_result(인수 필요함):\n",
    "    \n",
    "    \n",
    "    \n",
    "    "
   ]
  },
  {
   "cell_type": "markdown",
   "metadata": {},
   "source": [
    "# 위의 5개 함수를 사용하여 부서 고과평가 함수 완성하기(10점)"
   ]
  },
  {
   "cell_type": "code",
   "execution_count": null,
   "metadata": {},
   "outputs": [],
   "source": [
    "def main(필요시 인수 사용):\n",
    "    \n",
    "    \n",
    "    \n",
    "    "
   ]
  }
 ],
 "metadata": {
  "kernelspec": {
   "display_name": "Python 3",
   "language": "python",
   "name": "python3"
  },
  "language_info": {
   "codemirror_mode": {
    "name": "ipython",
    "version": 3
   },
   "file_extension": ".py",
   "mimetype": "text/x-python",
   "name": "python",
   "nbconvert_exporter": "python",
   "pygments_lexer": "ipython3",
   "version": "3.9.2"
  }
 },
 "nbformat": 4,
 "nbformat_minor": 4
}
